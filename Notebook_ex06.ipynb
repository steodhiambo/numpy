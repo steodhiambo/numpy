{
 "cells": [
  {
   "cell_type": "code",
   "execution_count": null,
   "id": "0edf9057",
   "metadata": {
    "vscode": {
     "languageId": "plaintext"
    }
   },
   "outputs": [],
   "source": [
    "import numpy as np\n",
    "\n",
    "m = np.ones((9, 9), dtype=np.int8)\n",
    "# make inner ring zero:\n",
    "m[1:-1, 1:-1] = 0\n",
    "# fill center 5x5 with ones\n",
    "m[2:7, 2:7] = 1\n",
    "# carve a 3x3 hole in the center\n",
    "m[3:6, 3:6] = 0\n",
    "# restore the very center\n",
    "m[4, 4] = 1\n",
    "\n",
    "print(m)\n"
   ]
  }
 ],
 "metadata": {
  "language_info": {
   "name": "python"
  }
 },
 "nbformat": 4,
 "nbformat_minor": 5
}
