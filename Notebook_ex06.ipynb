{
 "cells": [
  {
   "cell_type": "code",
   "execution_count": 2,
   "id": "0edf9057",
   "metadata": {
    "vscode": {
     "languageId": "plaintext"
    }
   },
   "outputs": [
    {
     "name": "stdout",
     "output_type": "stream",
     "text": [
      "1. 9x9 array initialized to 1 (int8):\n",
      "[[1 1 1 1 1 1 1 1 1]\n",
      " [1 1 1 1 1 1 1 1 1]\n",
      " [1 1 1 1 1 1 1 1 1]\n",
      " [1 1 1 1 1 1 1 1 1]\n",
      " [1 1 1 1 1 1 1 1 1]\n",
      " [1 1 1 1 1 1 1 1 1]\n",
      " [1 1 1 1 1 1 1 1 1]\n",
      " [1 1 1 1 1 1 1 1 1]\n",
      " [1 1 1 1 1 1 1 1 1]]\n",
      "\n",
      "2. Pattern array created using slicing:\n",
      "[[1 1 1 1 1 1 1 1 1]\n",
      " [1 0 0 0 0 0 0 0 1]\n",
      " [1 0 1 1 1 1 1 0 1]\n",
      " [1 0 1 0 0 0 1 0 1]\n",
      " [1 0 1 0 1 0 1 0 1]\n",
      " [1 0 1 0 0 0 1 0 1]\n",
      " [1 0 1 1 1 1 1 0 1]\n",
      " [1 0 0 0 0 0 0 0 1]\n",
      " [1 1 1 1 1 1 1 1 1]]\n",
      "\n",
      "3. Broadcasting result:\n",
      "array_1: [1 2 3 4 5]\n",
      "array_2: [1 2 3]\n",
      "Broadcast multiplication result:\n",
      "[[ 1  2  3]\n",
      " [ 2  4  6]\n",
      " [ 3  6  9]\n",
      " [ 4  8 12]\n",
      " [ 5 10 15]]\n"
     ]
    }
   ],
   "source": [
    "import numpy as np\n",
    "\n",
    "# Exercise 6: Broadcasting and Slicing\n",
    "\n",
    "# 1. Generate a 2-dimensional array of size 9x9, with all elements initialized to 1 and of type int8\n",
    "array_9x9 = np.ones((9, 9), dtype=np.int8)\n",
    "print(\"1. 9x9 array initialized to 1 (int8):\")\n",
    "print(array_9x9)\n",
    "print()\n",
    "\n",
    "# 2. Using slicing, create the pattern array\n",
    "# Start with the ones array and modify specific regions using slicing\n",
    "pattern_array = np.ones((9, 9), dtype=np.int8)\n",
    "\n",
    "# Create the border pattern by setting inner regions to 0\n",
    "pattern_array[1:8, 1:8] = 0  # Inner 7x7 region to 0\n",
    "pattern_array[2:7, 2:7] = 1  # Inner 5x5 region back to 1  \n",
    "pattern_array[3:6, 3:6] = 0  # Inner 3x3 region to 0\n",
    "pattern_array[4, 4] = 1      # Center cell to 1\n",
    "\n",
    "print(\"2. Pattern array created using slicing:\")\n",
    "print(pattern_array)\n",
    "print()\n",
    "\n",
    "# 3. Using broadcasting to create output matrix\n",
    "array_1 = np.array([1, 2, 3, 4, 5], dtype=np.int8)\n",
    "array_2 = np.array([1, 2, 3], dtype=np.int8)\n",
    "\n",
    "# Broadcasting: array_1 is (5,) and array_2 is (3,)\n",
    "# Reshape array_1 to (5,1) to broadcast with array_2 (3,)\n",
    "# Result will be (5,3) matrix\n",
    "broadcast_result = array_1.reshape(-1, 1) * array_2\n",
    "\n",
    "print(\"3. Broadcasting result:\")\n",
    "print(\"array_1:\", array_1)\n",
    "print(\"array_2:\", array_2)\n",
    "print(\"Broadcast multiplication result:\")\n",
    "print(broadcast_result)"
   ]
  },
  {
   "cell_type": "code",
   "execution_count": null,
   "id": "6ea00827-8e0e-4883-b3fd-4e8d13541855",
   "metadata": {},
   "outputs": [],
   "source": []
  }
 ],
 "metadata": {
  "kernelspec": {
   "display_name": "Python 3 (ipykernel)",
   "language": "python",
   "name": "python3"
  },
  "language_info": {
   "codemirror_mode": {
    "name": "ipython",
    "version": 3
   },
   "file_extension": ".py",
   "mimetype": "text/x-python",
   "name": "python",
   "nbconvert_exporter": "python",
   "pygments_lexer": "ipython3",
   "version": "3.12.3"
  }
 },
 "nbformat": 4,
 "nbformat_minor": 5
}
