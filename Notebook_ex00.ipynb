{
 "cells": [
  {
   "cell_type": "markdown",
   "id": "4f2a73d1-718f-4e64-a6c1-149b780bb4b9",
   "metadata": {},
   "source": [
    "# H1 TITLE\n",
    "## H2 TITLE\n",
    "\n"
   ]
  },
  {
   "cell_type": "code",
   "execution_count": 2,
   "id": "af904c0b-3ef2-49b7-8ab0-40573d84e703",
   "metadata": {},
   "outputs": [
    {
     "name": "stdout",
     "output_type": "stream",
     "text": [
      "Buy the dip ?\n"
     ]
    }
   ],
   "source": [
    "print(\"Buy the dip ?\")\n"
   ]
  }
 ],
 "metadata": {
  "kernelspec": {
   "display_name": "Python 3 (ipykernel)",
   "language": "python",
   "name": "python3"
  },
  "language_info": {
   "codemirror_mode": {
    "name": "ipython",
    "version": 3
   },
   "file_extension": ".py",
   "mimetype": "text/x-python",
   "name": "python",
   "nbconvert_exporter": "python",
   "pygments_lexer": "ipython3",
   "version": "3.12.3"
  }
 },
 "nbformat": 4,
 "nbformat_minor": 5
}
