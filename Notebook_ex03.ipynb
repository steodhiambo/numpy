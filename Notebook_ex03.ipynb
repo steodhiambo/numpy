{
 "cells": [
  {
   "cell_type": "code",
   "execution_count": null,
   "id": "e633792e",
   "metadata": {
    "vscode": {
     "languageId": "plaintext"
    }
   },
   "outputs": [
    {
     "name": "stdout",
     "output_type": "stream",
     "text": [
      "[ 1  3  5  7  9 11 13 15 17 19 21 23 25 27 29 31 33 35 37 39 41 43 45 47\n",
      " 49 51 53 55 57 59 61 63 65 67 69 71 73 75 77 79 81 83 85 87 89 91 93 95\n",
      " 97 99]\n",
      "[100  98  96  94  92  90  88  86  84  82  80  78  76  74  72  70  68  66\n",
      "  64  62  60  58  56  54  52  50  48  46  44  42  40  38  36  34  32  30\n",
      "  28  26  24  22  20  18  16  14  12  10   8   6   4   2]\n",
      "[  1   0   3   4   0   6   7   0   9  10   0  12  13   0  15  16   0  18\n",
      "  19   0  21  22   0  24  25   0  27  28   0  30  31   0  33  34   0  36\n",
      "  37   0  39  40   0  42  43   0  45  46   0  48  49   0  51  52   0  54\n",
      "  55   0  57  58   0  60  61   0  63  64   0  66  67   0  69  70   0  72\n",
      "  73   0  75  76   0  78  79   0  81  82   0  84  85   0  87  88   0  90\n",
      "  91   0  93  94   0  96  97   0  99 100]\n"
     ]
    }
   ],
   "source": [
    "import numpy as np\n",
    "\n",
    "a = np.arange(1, 101)   # integers 1..100 inclusive\n",
    "\n",
    "# 1) odd integers\n",
    "odds = a[::2]           # start at index 0 (1), step 2\n",
    "print(odds)\n",
    "\n",
    "# 2) even integers reversed\n",
    "evens_reversed = a[a % 2 == 0][::-1]\n",
    "print(evens_reversed)\n",
    "\n",
    "# 3) set every 3rd element (starting with the second) to 0\n",
    "b = a.copy()\n",
    "b[1::3] = 0             # indices 1, 4, 7, ... set to 0\n",
    "print(b)\n"
   ]
  },
  {
   "cell_type": "code",
   "execution_count": null,
   "id": "8babb295-7205-44f1-aaa5-72fe6e0da8c7",
   "metadata": {},
   "outputs": [],
   "source": []
  }
 ],
 "metadata": {
  "kernelspec": {
   "display_name": "Python 3 (ipykernel)",
   "language": "python",
   "name": "python3"
  },
  "language_info": {
   "codemirror_mode": {
    "name": "ipython",
    "version": 3
   },
   "file_extension": ".py",
   "mimetype": "text/x-python",
   "name": "python",
   "nbconvert_exporter": "python",
   "pygments_lexer": "ipython3",
   "version": "3.12.3"
  }
 },
 "nbformat": 4,
 "nbformat_minor": 5
}
