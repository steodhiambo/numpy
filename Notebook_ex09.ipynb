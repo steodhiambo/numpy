{
 "cells": [
  {
   "cell_type": "code",
   "execution_count": 10,
   "id": "2c611333",
   "metadata": {
    "vscode": {
     "languageId": "plaintext"
    }
   },
   "outputs": [
    {
     "name": "stdout",
     "output_type": "stream",
     "text": [
      "[[0 1 2 3 5]\n",
      " [8 7 9 4 6]]\n"
     ]
    }
   ],
   "source": [
    "import numpy as nP\n",
    "import itertools\n",
    "\n",
    "# Load forecast matrix\n",
    "forecasts = np.loadtxt('model_forecasts.txt', delimiter=',')\n",
    "np.fill_diagonal(forecasts, 0)\n",
    "\n",
    "# Generate all permutations\n",
    "all_permutations = list(itertools.permutations(range(10)))\n",
    "perms_array = np.array(all_permutations)\n",
    "\n",
    "# Extract team pairs and calculate costs using vectorized operations\n",
    "team1_indices = perms_array[:, ::2]  # Even positions\n",
    "team2_indices = perms_array[:, 1::2] # Odd positions\n",
    "\n",
    "score_diffs = forecasts[team1_indices, team2_indices]\n",
    "costs = np.sum(score_diffs ** 2, axis=1)\n",
    "\n",
    "# Find optimal permutation\n",
    "optimal_idx = np.argmin(costs)\n",
    "best_permutation = all_permutations[optimal_idx]\n",
    "\n",
    "# Format result\n",
    "result = np.array([[best_permutation[i] for i in range(0, 10, 2)],\n",
    "                   [best_permutation[i] for i in range(1, 10, 2)]])\n",
    "print(result)"
   ]
  },
  {
   "cell_type": "code",
   "execution_count": null,
   "id": "db102e22-1056-4f06-a7ce-87be1463a503",
   "metadata": {},
   "outputs": [],
   "source": []
  }
 ],
 "metadata": {
  "kernelspec": {
   "display_name": "Python 3 (ipykernel)",
   "language": "python",
   "name": "python3"
  },
  "language_info": {
   "codemirror_mode": {
    "name": "ipython",
    "version": 3
   },
   "file_extension": ".py",
   "mimetype": "text/x-python",
   "name": "python",
   "nbconvert_exporter": "python",
   "pygments_lexer": "ipython3",
   "version": "3.12.3"
  }
 },
 "nbformat": 4,
 "nbformat_minor": 5
}
