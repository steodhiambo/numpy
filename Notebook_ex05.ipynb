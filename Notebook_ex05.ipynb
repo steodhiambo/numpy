{
 "cells": [
  {
   "cell_type": "code",
   "execution_count": 1,
   "id": "f7054283",
   "metadata": {
    "vscode": {
     "languageId": "plaintext"
    }
   },
   "outputs": [
    {
     "name": "stdout",
     "output_type": "stream",
     "text": [
      "1. Array from 1 to 50:\n",
      "[ 1  2  3  4  5  6  7  8  9 10 11 12 13 14 15 16 17 18 19 20 21 22 23 24\n",
      " 25 26 27 28 29 30 31 32 33 34 35 36 37 38 39 40 41 42 43 44 45 46 47 48\n",
      " 49 50]\n",
      "\n",
      "2. Array from 51 to 100:\n",
      "[ 51  52  53  54  55  56  57  58  59  60  61  62  63  64  65  66  67  68\n",
      "  69  70  71  72  73  74  75  76  77  78  79  80  81  82  83  84  85  86\n",
      "  87  88  89  90  91  92  93  94  95  96  97  98  99 100]\n",
      "\n",
      "3. Concatenated array (1 to 100):\n",
      "[  1   2   3   4   5   6   7   8   9  10  11  12  13  14  15  16  17  18\n",
      "  19  20  21  22  23  24  25  26  27  28  29  30  31  32  33  34  35  36\n",
      "  37  38  39  40  41  42  43  44  45  46  47  48  49  50  51  52  53  54\n",
      "  55  56  57  58  59  60  61  62  63  64  65  66  67  68  69  70  71  72\n",
      "  73  74  75  76  77  78  79  80  81  82  83  84  85  86  87  88  89  90\n",
      "  91  92  93  94  95  96  97  98  99 100]\n",
      "\n",
      "4. Reshaped array (10x10):\n",
      "[[  1   2   3   4   5   6   7   8   9  10]\n",
      " [ 11  12  13  14  15  16  17  18  19  20]\n",
      " [ 21  22  23  24  25  26  27  28  29  30]\n",
      " [ 31  32  33  34  35  36  37  38  39  40]\n",
      " [ 41  42  43  44  45  46  47  48  49  50]\n",
      " [ 51  52  53  54  55  56  57  58  59  60]\n",
      " [ 61  62  63  64  65  66  67  68  69  70]\n",
      " [ 71  72  73  74  75  76  77  78  79  80]\n",
      " [ 81  82  83  84  85  86  87  88  89  90]\n",
      " [ 91  92  93  94  95  96  97  98  99 100]]\n"
     ]
    }
   ],
   "source": [
    "import numpy as np\n",
    "\n",
    "# Exercise 5: Split, concatenate, reshape arrays\n",
    "\n",
    "# 1. Generate an array with integers from 1 to 50\n",
    "array1 = np.arange(1, 51)\n",
    "print(\"1. Array from 1 to 50:\")\n",
    "print(array1)\n",
    "print()\n",
    "\n",
    "# 2. Generate an array with integers from 51 to 100\n",
    "array2 = np.arange(51, 101)\n",
    "print(\"2. Array from 51 to 100:\")\n",
    "print(array2)\n",
    "print()\n",
    "\n",
    "# 3. Using np.concatenate, concatenate the two arrays\n",
    "concatenated = np.concatenate([array1, array2])\n",
    "print(\"3. Concatenated array (1 to 100):\")\n",
    "print(concatenated)\n",
    "print()\n",
    "\n",
    "# 4. Reshape the previous array into 10x10 matrix\n",
    "reshaped = concatenated.reshape(10, 10)\n",
    "print(\"4. Reshaped array (10x10):\")\n",
    "print(reshaped)"
   ]
  },
  {
   "cell_type": "code",
   "execution_count": null,
   "id": "6a16293f-a66d-4ec8-9440-9372aead7116",
   "metadata": {},
   "outputs": [],
   "source": []
  }
 ],
 "metadata": {
  "kernelspec": {
   "display_name": "Python 3 (ipykernel)",
   "language": "python",
   "name": "python3"
  },
  "language_info": {
   "codemirror_mode": {
    "name": "ipython",
    "version": 3
   },
   "file_extension": ".py",
   "mimetype": "text/x-python",
   "name": "python",
   "nbconvert_exporter": "python",
   "pygments_lexer": "ipython3",
   "version": "3.12.3"
  }
 },
 "nbformat": 4,
 "nbformat_minor": 5
}
