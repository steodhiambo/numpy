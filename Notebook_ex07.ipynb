{
 "cells": [
  {
   "cell_type": "code",
   "execution_count": 1,
   "id": "2605715e",
   "metadata": {
    "vscode": {
     "languageId": "plaintext"
    }
   },
   "outputs": [
    {
     "name": "stdout",
     "output_type": "stream",
     "text": [
      "[[ 7.  1.  7.]\n",
      " [nan  2.  2.]\n",
      " [nan  8.  8.]\n",
      " [ 9.  3.  9.]\n",
      " [ 8.  9.  8.]\n",
      " [nan  2.  2.]\n",
      " [ 8.  2.  8.]\n",
      " [nan  6.  6.]\n",
      " [ 9.  2.  9.]\n",
      " [ 8.  5.  8.]]\n"
     ]
    }
   ],
   "source": [
    "import numpy as np\n",
    "\n",
    "generator = np.random.default_rng(123)\n",
    "grades = np.round(generator.uniform(low=0.0, high=10.0, size=(10, 2)))\n",
    "grades[[1, 2, 5, 7], 0] = np.nan\n",
    "\n",
    "# create third column: if exam1 is present use it else use exam2\n",
    "third_col = np.where(np.isnan(grades[:, 0]), grades[:, 1], grades[:, 0])\n",
    "grades_with_third = np.hstack([grades, third_col.reshape(-1, 1)])\n",
    "\n",
    "print(grades_with_third)\n"
   ]
  },
  {
   "cell_type": "code",
   "execution_count": null,
   "id": "c619da6b-b4fa-4779-b6dd-6bf633934d8b",
   "metadata": {},
   "outputs": [],
   "source": []
  }
 ],
 "metadata": {
  "kernelspec": {
   "display_name": "Python 3 (ipykernel)",
   "language": "python",
   "name": "python3"
  },
  "language_info": {
   "codemirror_mode": {
    "name": "ipython",
    "version": 3
   },
   "file_extension": ".py",
   "mimetype": "text/x-python",
   "name": "python",
   "nbconvert_exporter": "python",
   "pygments_lexer": "ipython3",
   "version": "3.12.3"
  }
 },
 "nbformat": 4,
 "nbformat_minor": 5
}
