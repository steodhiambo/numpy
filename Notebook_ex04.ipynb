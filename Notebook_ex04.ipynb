{
 "cells": [
  {
   "cell_type": "code",
   "execution_count": 3,
   "id": "fed2d1ac",
   "metadata": {
    "vscode": {
     "languageId": "plaintext"
    }
   },
   "outputs": [
    {
     "name": "stdout",
     "output_type": "stream",
     "text": [
      "1D normal array shape: (100,)\n",
      "\n",
      "2D uniform array shape: (8, 8)\n",
      "2D array:\n",
      " [[ 9  8  4  6  9  1  3  2]\n",
      " [ 3  9  9  5  4  7  2  8]\n",
      " [ 5  6  9  1  1  6  8  7]\n",
      " [ 7  1  4  1 10  4  3  5]\n",
      " [ 5 10  1 10  7 10  6  1]\n",
      " [ 6  8  7  4  6 10  3  5]\n",
      " [ 4 10  7  9  9 10  9  9]\n",
      " [ 5  3  2 10  8  5  5  3]]\n",
      "\n",
      "3D uniform array shape: (4, 2, 5)\n",
      "3D array:\n",
      " [[[ 5  2 13 16 15]\n",
      "  [ 5  5  2 11  3]]\n",
      "\n",
      " [[ 8 13  6  4 17]\n",
      "  [ 2  8  1 13 10]]\n",
      "\n",
      " [[12 17 17 12  1]\n",
      "  [10  8 17  5 11]]\n",
      "\n",
      " [[ 9 14  2 15 13]\n",
      "  [12 14  6 14  2]]]\n"
     ]
    }
   ],
   "source": [
    "import numpy as np\n",
    "\n",
    "# Exercise 4: Random Data Generation\n",
    "\n",
    "# 1. Set the seed to 888\n",
    "np.random.seed(888)\n",
    "\n",
    "# 2. Generate a one-dimensional array of size 100 with normal distribution\n",
    "normal_1d = np.random.randn(100)\n",
    "print(\"1D normal array shape:\", normal_1d.shape)\n",
    "print()\n",
    "\n",
    "# 3. Generate a two-dimensional array of size 8,8 with random integers from 1 to 10\n",
    "random_2d = np.random.randint(1, 11, (8, 8))\n",
    "print(\"2D uniform array shape:\", random_2d.shape)\n",
    "print(\"2D array:\\n\", random_2d)\n",
    "print()\n",
    "\n",
    "# 4. Generate a three-dimensional array of size 4,2,5 with random integers from 1 to 17\n",
    "random_3d = np.random.randint(1, 18, (4, 2, 5))\n",
    "print(\"3D uniform array shape:\", random_3d.shape)\n",
    "print(\"3D array:\\n\", random_3d)"
   ]
  },
  {
   "cell_type": "code",
   "execution_count": null,
   "id": "e25ad187-9340-473c-b468-0623c985146f",
   "metadata": {},
   "outputs": [],
   "source": []
  }
 ],
 "metadata": {
  "kernelspec": {
   "display_name": "Python 3 (ipykernel)",
   "language": "python",
   "name": "python3"
  },
  "language_info": {
   "codemirror_mode": {
    "name": "ipython",
    "version": 3
   },
   "file_extension": ".py",
   "mimetype": "text/x-python",
   "name": "python",
   "nbconvert_exporter": "python",
   "pygments_lexer": "ipython3",
   "version": "3.12.3"
  }
 },
 "nbformat": 4,
 "nbformat_minor": 5
}
