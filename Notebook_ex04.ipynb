{
 "cells": [
  {
   "cell_type": "code",
   "execution_count": 1,
   "id": "fed2d1ac",
   "metadata": {
    "vscode": {
     "languageId": "plaintext"
    }
   },
   "outputs": [
    {
     "name": "stdout",
     "output_type": "stream",
     "text": [
      "(100,)\n",
      "[[ 4 10  4  2  2  1  3  4]\n",
      " [ 7  2  7  6  6 10  3  3]\n",
      " [10  9  9  7  9  5  9 10]\n",
      " [ 9  4  6 10 10 10  7  7]\n",
      " [ 5  5  7  3  8  5  7  3]\n",
      " [ 4  4  7 10  2 10  4  8]\n",
      " [ 2  8  7  2  2  6  5  4]\n",
      " [ 4  8  8  8  5  1  5  2]]\n",
      "(4, 2, 5)\n"
     ]
    }
   ],
   "source": [
    "import numpy as np\n",
    "\n",
    "rng = np.random.default_rng(888)         # seed 888\n",
    "\n",
    "# 1D normal (size 100) — standard normal (mean 0, std 1)\n",
    "one_d_normal = rng.standard_normal(100)\n",
    "print(one_d_normal.shape)\n",
    "\n",
    "# 8x8 uniform integers from 1 to 10 inclusive\n",
    "arr_8_8 = rng.integers(1, 11, size=(8, 8))\n",
    "print(arr_8_8)\n",
    "\n",
    "# 4 x 2 x 5 integers 1..17 inclusive\n",
    "arr_4_2_5 = rng.integers(1, 18, size=(4, 2, 5))\n",
    "print(arr_4_2_5.shape)\n"
   ]
  },
  {
   "cell_type": "code",
   "execution_count": null,
   "id": "e25ad187-9340-473c-b468-0623c985146f",
   "metadata": {},
   "outputs": [],
   "source": []
  }
 ],
 "metadata": {
  "kernelspec": {
   "display_name": "Python 3 (ipykernel)",
   "language": "python",
   "name": "python3"
  },
  "language_info": {
   "codemirror_mode": {
    "name": "ipython",
    "version": 3
   },
   "file_extension": ".py",
   "mimetype": "text/x-python",
   "name": "python",
   "nbconvert_exporter": "python",
   "pygments_lexer": "ipython3",
   "version": "3.12.3"
  }
 },
 "nbformat": 4,
 "nbformat_minor": 5
}
